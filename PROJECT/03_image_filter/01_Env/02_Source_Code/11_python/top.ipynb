{
 "cells": [
  {
   "cell_type": "markdown",
   "metadata": {},
   "source": [
    "# read_write_lib.py"
   ]
  },
  {
   "cell_type": "code",
   "execution_count": 64,
   "metadata": {},
   "outputs": [],
   "source": [
    "# import cv2\n",
    "import numpy as np\n",
    "\n",
    "def image_read_ppm(dirFile):\n",
    "    f = open(dirFile, 'r')\n",
    "    header_1 = f.readline()\n",
    "    header_2 = f.readline()\n",
    "    header_3 = f.readline()\n",
    "\n",
    "    IMG_WIDTH  = int(header_2.split()[0])\n",
    "    IMG_HEIGHT = int(header_2.split()[1])\n",
    "\n",
    "    header = np.array([header_1, header_2, header_3])\n",
    "    data = f.read().replace(\"\\r\", \" \").replace(\"\\n\", \" \")\n",
    "    dataTmp = data.split()\n",
    "    dataList = dataTmp[:IMG_HEIGHT*IMG_WIDTH*3]\n",
    "    outData = np.array(dataList, dtype=int).reshape(IMG_HEIGHT, IMG_WIDTH, 3)\n",
    "\n",
    "    return outData, IMG_WIDTH, IMG_HEIGHT, header\n",
    "\n",
    "def image_write_ppm(dirFile, imgData, header):\n",
    "    header_1 = header[0]\n",
    "    header_2 = header[1]\n",
    "    header_3 = header[2]\n",
    "\n",
    "    IMG_WIDTH  = int(header_2.split()[0])\n",
    "    IMG_HEIGHT = int(header_2.split()[1])\n",
    "\n",
    "    with open(dirFile, 'w') as f:\n",
    "        f.write(header_1)\n",
    "        f.write(header_2)\n",
    "        f.write(header_3)\n",
    "        for i in range(IMG_HEIGHT):\n",
    "            for j in range(IMG_WIDTH):\n",
    "                f.write(str(imgData[i,j,0]) + \" \" )\n",
    "                f.write(str(imgData[i,j,1]) + \" \" )\n",
    "                f.write(str(imgData[i,j,2]) + \"\\n\")"
   ]
  },
  {
   "cell_type": "markdown",
   "metadata": {},
   "source": [
    "# fixed_point_lib.py"
   ]
  },
  {
   "cell_type": "code",
   "execution_count": 61,
   "metadata": {},
   "outputs": [],
   "source": [
    "import numpy as np\n",
    "\n",
    "def func_round_diff(idata):\n",
    "    odata = np.where(np.absolute(idata - idata.astype(np.int32)) >= 0.5, np.sign(idata) * (abs(idata).astype(np.int32)+1), idata.astype(np.int32))\n",
    "    return odata\n",
    "\n",
    "def round_array(idata, rl):\n",
    "    odata = func_round_diff(idata/(2**rl))\n",
    "    return odata\n",
    "\n",
    "def fixed_pts_array(idata, fl):\n",
    "    odata = func_round_diff(idata*(2**fl))\n",
    "    return odata"
   ]
  },
  {
   "cell_type": "markdown",
   "metadata": {},
   "source": [
    "# math.py"
   ]
  },
  {
   "cell_type": "code",
   "execution_count": 127,
   "metadata": {},
   "outputs": [],
   "source": [
    "def cov(input_data, filter, pad=2):\n",
    "    H, W = input_data.shape\n",
    "    f_H, f_W = filter.shape\n",
    "\n",
    "    output_H = (H + 2 * pad - f_H) + 1\n",
    "    output_W = (W + 2 * pad - f_W) + 1\n",
    "\n",
    "    pad_data = np.pad(input_data, [(pad, pad), (pad, pad)], 'edge')\n",
    "    output = np.zeros((output_H, output_W))\n",
    "\n",
    "    for h in range(H):       \n",
    "        for w in range(W):\n",
    "            output[h, w] = np.sum(pad_data[h:h+f_H, w:w+f_W] * filter)\n",
    "            \n",
    "    return output\n",
    "\n",
    "def mat_mul(input_data, )\n"
   ]
  },
  {
   "cell_type": "markdown",
   "metadata": {},
   "source": [
    "# Main Code"
   ]
  },
  {
   "cell_type": "code",
   "execution_count": 128,
   "metadata": {},
   "outputs": [
    {
     "name": "stdout",
     "output_type": "stream",
     "text": [
      "(1080, 1920, 3)\n",
      "(1080, 1920)\n",
      "[[1 5 4 2 6]\n",
      " [3 5 6 9 1]]\n",
      "[[ 11.  11.  11.  11.  11.]\n",
      " [ 11.  11.  11.  11.  11.]\n",
      " [ 11.  11. 128.  11.  11.]\n",
      " [ 11.  11.  11.  11.  11.]\n",
      " [ 11.  11.  11.  11.  11.]]\n",
      "[[ 953. 1586. 1590. 1477. 1890.]\n",
      " [1275. 1729. 1890. 2285. 1239.]]\n"
     ]
    }
   ],
   "source": [
    "import numpy as np\n",
    "\n",
    "if __name__ == \"__main__\":\n",
    "    #############################\n",
    "    # 1. Parameter setting\n",
    "    #############################\n",
    "    PPM_NAME = \"ONE_DOT.ppm\"\n",
    "    INPUT_IMAGE_DIR = \"./image/input/\"\n",
    "    OUTPUT_IMAGE_DIR = \"./image/output/\"\n",
    "\n",
    "    INPUT_IMAGE_FILE_PATH = INPUT_IMAGE_DIR + PPM_NAME\n",
    "    OUTPUT_IMAGE_FILE_PAHT = OUTPUT_IMAGE_DIR + PPM_NAME\n",
    "\n",
    "    imgData, IMG_WIDTH, IMG_HEIGHT, header = image_read_ppm(INPUT_IMAGE_FILE_PATH)\n",
    "    print(imgData.shape)\n",
    "    r = imgData[:,:,0]\n",
    "    print(r.shape)\n",
    "    # image_write_ppm(OUTPUT_IMAGE_FILE_PAHT, imgData, header)\n",
    "\n",
    "    FILTER_SIZE = 5\n",
    "    PADDING_SIZE = int(FILTER_SIZE/2)\n",
    "\n",
    "    mean_filter_coef = np.ones((5,5)) / (FILTER_SIZE*FILTER_SIZE-1)\n",
    "    mean_filter_coef[2,2] = 0.5\n",
    "    sharpness_filter_coef = -np.ones((5,5)) / (FILTER_SIZE*FILTER_SIZE - 1)\n",
    "\n",
    "    mean_filter_coef_fixed = fixed_pts_array(mean_filter_coef, 8)\n",
    "    #############################\n",
    "    # 2. \n",
    "    #############################\n",
    "    X = np.asarray(\n",
    "    [\n",
    "    [1,\n",
    "     5,\n",
    "     4,\n",
    "     2,\n",
    "     6],\n",
    "\n",
    "    [3,\n",
    "     5,\n",
    "     6,\n",
    "     9,\n",
    "     1]\n",
    "    ]\n",
    "    )\n",
    "\n",
    "    print(X)\n",
    "    print(mean_filter_coef_fixed)\n",
    "    X = cov(X, mean_filter_coef_fixed)\n",
    "\n",
    "    print(X)"
   ]
  },
  {
   "cell_type": "code",
   "execution_count": null,
   "metadata": {},
   "outputs": [],
   "source": []
  }
 ],
 "metadata": {
  "kernelspec": {
   "display_name": "Python 3",
   "language": "python",
   "name": "python3"
  },
  "language_info": {
   "codemirror_mode": {
    "name": "ipython",
    "version": 3
   },
   "file_extension": ".py",
   "mimetype": "text/x-python",
   "name": "python",
   "nbconvert_exporter": "python",
   "pygments_lexer": "ipython3",
   "version": "3.10.7"
  }
 },
 "nbformat": 4,
 "nbformat_minor": 2
}
